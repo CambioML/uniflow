{
 "cells": [
  {
   "cell_type": "code",
   "execution_count": 8,
   "metadata": {},
   "outputs": [],
   "source": [
    "%reload_ext autoreload\n",
    "%autoreload 2\n",
    "\n",
    "import sys\n",
    "import pprint\n",
    "\n",
    "sys.path.append(\".\")\n",
    "sys.path.append(\"..\")\n",
    "sys.path.append(\"../..\")"
   ]
  },
  {
   "cell_type": "code",
   "execution_count": 9,
   "metadata": {},
   "outputs": [
    {
     "data": {
      "text/plain": [
       "{'extract': ['ExtractPDFFlow', 'ExtractTxtFlow'], 'transform': []}"
      ]
     },
     "execution_count": 9,
     "metadata": {},
     "output_type": "execute_result"
    }
   ],
   "source": [
    "from uniflow.flow.client import ExtractClient\n",
    "from uniflow.flow.config import ExtractTxtConfig\n",
    "from uniflow.viz import Viz\n",
    "from uniflow.flow.flow_factory import FlowFactory\n",
    "\n",
    "FlowFactory.list()"
   ]
  },
  {
   "cell_type": "code",
   "execution_count": 10,
   "metadata": {},
   "outputs": [],
   "source": [
    "data = [{\"filename\": \"./data/test.txt\"}]"
   ]
  },
  {
   "cell_type": "code",
   "execution_count": 13,
   "metadata": {},
   "outputs": [],
   "source": [
    "client = ExtractClient(ExtractTxtConfig())"
   ]
  },
  {
   "cell_type": "code",
   "execution_count": 14,
   "metadata": {},
   "outputs": [
    {
     "name": "stderr",
     "output_type": "stream",
     "text": [
      "100%|██████████| 1/1 [00:00<00:00, 9198.04it/s]"
     ]
    },
    {
     "name": "stdout",
     "output_type": "stream",
     "text": [
      "[{'output': [{'text': [\"One of the most important things I didn't understand \"\n",
      "                       'about the world when I was a child is the degree to '\n",
      "                       'which the returns for performance are superlinear.',\n",
      "                       'Teachers and coaches implicitly told us the returns '\n",
      "                       'were linear. \"You get out,\" I heard a thousand times, '\n",
      "                       '\"what you put in.\" They meant well, but this is rarely '\n",
      "                       'true. If your product is only half as good as your '\n",
      "                       \"competitor's, you don't get half as many customers. \"\n",
      "                       'You get no customers, and you go out of business.',\n",
      "                       \"It's obviously true that the returns for performance \"\n",
      "                       'are superlinear in business. Some think this is a flaw '\n",
      "                       'of capitalism, and that if we changed the rules it '\n",
      "                       'would stop being true. But superlinear returns for '\n",
      "                       'performance are a feature of the world, not an '\n",
      "                       \"artifact of rules we've invented. We see the same \"\n",
      "                       'pattern in fame, power, military victories, knowledge, '\n",
      "                       'and even benefit to humanity. In all of these, the '\n",
      "                       'rich get richer.',\n",
      "                       \"You can't understand the world without understanding \"\n",
      "                       \"the concept of superlinear returns. And if you're \"\n",
      "                       'ambitious you definitely should, because this will be '\n",
      "                       'the wave you surf on.']}],\n",
      "  'root': <uniflow.node.node.Node object at 0x117382920>}]\n"
     ]
    },
    {
     "name": "stderr",
     "output_type": "stream",
     "text": [
      "\n"
     ]
    }
   ],
   "source": [
    "output = client.run(data)\n",
    "pprint.pprint(output)"
   ]
  },
  {
   "cell_type": "code",
   "execution_count": 15,
   "metadata": {},
   "outputs": [
    {
     "data": {
      "text/plain": [
       "[\"One of the most important things I didn't understand about the world when I was a child is the degree to which the returns for performance are superlinear.\",\n",
       " 'Teachers and coaches implicitly told us the returns were linear. \"You get out,\" I heard a thousand times, \"what you put in.\" They meant well, but this is rarely true. If your product is only half as good as your competitor\\'s, you don\\'t get half as many customers. You get no customers, and you go out of business.',\n",
       " \"It's obviously true that the returns for performance are superlinear in business. Some think this is a flaw of capitalism, and that if we changed the rules it would stop being true. But superlinear returns for performance are a feature of the world, not an artifact of rules we've invented. We see the same pattern in fame, power, military victories, knowledge, and even benefit to humanity. In all of these, the rich get richer.\",\n",
       " \"You can't understand the world without understanding the concept of superlinear returns. And if you're ambitious you definitely should, because this will be the wave you surf on.\"]"
      ]
     },
     "execution_count": 15,
     "metadata": {},
     "output_type": "execute_result"
    }
   ],
   "source": [
    "output[0]['output'][0]['text']"
   ]
  },
  {
   "cell_type": "code",
   "execution_count": 16,
   "metadata": {},
   "outputs": [],
   "source": [
    "graph = Viz.to_digraph(output[0][\"root\"])"
   ]
  },
  {
   "cell_type": "code",
   "execution_count": 17,
   "metadata": {},
   "outputs": [
    {
     "data": {
      "image/svg+xml": [
       "<?xml version=\"1.0\" encoding=\"UTF-8\" standalone=\"no\"?>\n",
       "<!DOCTYPE svg PUBLIC \"-//W3C//DTD SVG 1.1//EN\"\n",
       " \"http://www.w3.org/Graphics/SVG/1.1/DTD/svg11.dtd\">\n",
       "<!-- Generated by graphviz version 9.0.0 (20230911.1827)\n",
       " -->\n",
       "<!-- Pages: 1 -->\n",
       "<svg width=\"229pt\" height=\"188pt\"\n",
       " viewBox=\"0.00 0.00 229.44 188.00\" xmlns=\"http://www.w3.org/2000/svg\" xmlns:xlink=\"http://www.w3.org/1999/xlink\">\n",
       "<g id=\"graph0\" class=\"graph\" transform=\"scale(1 1) rotate(0) translate(4 184)\">\n",
       "<polygon fill=\"white\" stroke=\"none\" points=\"-4,4 -4,-184 225.44,-184 225.44,4 -4,4\"/>\n",
       "<!-- root -->\n",
       "<g id=\"node1\" class=\"node\">\n",
       "<title>root</title>\n",
       "<ellipse fill=\"none\" stroke=\"black\" cx=\"110.72\" cy=\"-162\" rx=\"27\" ry=\"18\"/>\n",
       "<text text-anchor=\"middle\" x=\"110.72\" y=\"-156.95\" font-family=\"Times,serif\" font-size=\"14.00\">root</text>\n",
       "</g>\n",
       "<!-- thread_0/extract_txt_op_1 -->\n",
       "<g id=\"node2\" class=\"node\">\n",
       "<title>thread_0/extract_txt_op_1</title>\n",
       "<ellipse fill=\"none\" stroke=\"black\" cx=\"110.72\" cy=\"-90\" rx=\"108.16\" ry=\"18\"/>\n",
       "<text text-anchor=\"middle\" x=\"110.72\" y=\"-84.95\" font-family=\"Times,serif\" font-size=\"14.00\">thread_0/extract_txt_op_1</text>\n",
       "</g>\n",
       "<!-- root&#45;&gt;thread_0/extract_txt_op_1 -->\n",
       "<g id=\"edge1\" class=\"edge\">\n",
       "<title>root&#45;&gt;thread_0/extract_txt_op_1</title>\n",
       "<path fill=\"none\" stroke=\"black\" d=\"M110.72,-143.7C110.72,-136.41 110.72,-127.73 110.72,-119.54\"/>\n",
       "<polygon fill=\"black\" stroke=\"black\" points=\"114.22,-119.62 110.72,-109.62 107.22,-119.62 114.22,-119.62\"/>\n",
       "</g>\n",
       "<!-- thread_0/process_txt_op_1 -->\n",
       "<g id=\"node3\" class=\"node\">\n",
       "<title>thread_0/process_txt_op_1</title>\n",
       "<ellipse fill=\"none\" stroke=\"black\" cx=\"110.72\" cy=\"-18\" rx=\"110.72\" ry=\"18\"/>\n",
       "<text text-anchor=\"middle\" x=\"110.72\" y=\"-12.95\" font-family=\"Times,serif\" font-size=\"14.00\">thread_0/process_txt_op_1</text>\n",
       "</g>\n",
       "<!-- thread_0/extract_txt_op_1&#45;&gt;thread_0/process_txt_op_1 -->\n",
       "<g id=\"edge2\" class=\"edge\">\n",
       "<title>thread_0/extract_txt_op_1&#45;&gt;thread_0/process_txt_op_1</title>\n",
       "<path fill=\"none\" stroke=\"black\" d=\"M110.72,-71.7C110.72,-64.41 110.72,-55.73 110.72,-47.54\"/>\n",
       "<polygon fill=\"black\" stroke=\"black\" points=\"114.22,-47.62 110.72,-37.62 107.22,-47.62 114.22,-47.62\"/>\n",
       "</g>\n",
       "</g>\n",
       "</svg>\n"
      ],
      "text/plain": [
       "<graphviz.graphs.Digraph at 0x117320250>"
      ]
     },
     "metadata": {},
     "output_type": "display_data"
    }
   ],
   "source": [
    "display(graph)"
   ]
  },
  {
   "cell_type": "code",
   "execution_count": null,
   "metadata": {},
   "outputs": [],
   "source": []
  }
 ],
 "metadata": {
  "kernelspec": {
   "display_name": "uniflow",
   "language": "python",
   "name": "python3"
  },
  "language_info": {
   "codemirror_mode": {
    "name": "ipython",
    "version": 3
   },
   "file_extension": ".py",
   "mimetype": "text/x-python",
   "name": "python",
   "nbconvert_exporter": "python",
   "pygments_lexer": "ipython3",
   "version": "3.10.13"
  }
 },
 "nbformat": 4,
 "nbformat_minor": 2
}
