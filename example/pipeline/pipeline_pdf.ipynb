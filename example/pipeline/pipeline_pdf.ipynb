{
 "cells": [
  {
   "cell_type": "markdown",
   "id": "7cbc4c4a",
   "metadata": {},
   "source": [
    "# Example of loading PDF using Nougat\n",
    "Source: https://arxiv.org/abs/1408.5882"
   ]
  },
  {
   "cell_type": "markdown",
   "metadata": {},
   "source": [
    "### Before running the code\n",
    "\n",
    "You will need to `uniflow` conda environment to run this notebook. You can set up the environment following the instruction: https://github.com/CambioML/uniflow/tree/main#installation. Furthermore, make sure you have the following packages installed:"
   ]
  },
  {
   "cell_type": "code",
   "execution_count": 1,
   "metadata": {},
   "outputs": [],
   "source": [
    "# pip3 install nougat-ocr"
   ]
  },
  {
   "cell_type": "markdown",
   "metadata": {},
   "source": [
    "### Load packages"
   ]
  },
  {
   "cell_type": "code",
   "execution_count": 2,
   "metadata": {},
   "outputs": [],
   "source": [
    "%reload_ext autoreload\n",
    "%autoreload 2\n",
    "\n",
    "import sys\n",
    "\n",
    "sys.path.append(\".\")\n",
    "sys.path.append(\"..\")\n",
    "sys.path.append(\"../..\")"
   ]
  },
  {
   "cell_type": "code",
   "execution_count": 3,
   "id": "8d84dd70",
   "metadata": {},
   "outputs": [
    {
     "name": "stderr",
     "output_type": "stream",
     "text": [
      "/opt/conda/envs/uniflow/lib/python3.10/site-packages/tqdm/auto.py:21: TqdmWarning: IProgress not found. Please update jupyter and ipywidgets. See https://ipywidgets.readthedocs.io/en/stable/user_install.html\n",
      "  from .autonotebook import tqdm as notebook_tqdm\n"
     ]
    }
   ],
   "source": [
    "import os\n",
    "import pandas as pd\n",
    "from uniflow.pipeline import MultiFlowsPipeline\n",
    "from uniflow.config import PipelineConfig\n",
    "from uniflow.transform.config import TransformOpenAIConfig\n",
    "from uniflow.extract.config import ExtractPDFConfig\n",
    "from uniflow.model.config import OpenAIModelConfig, NougatModelConfig\n",
    "from uniflow.schema import GuidedPrompt, Context\n"
   ]
  },
  {
   "cell_type": "markdown",
   "id": "cb677037",
   "metadata": {},
   "source": [
    "### Prepare the input data\n",
    "\n",
    "First, let's set current directory and input data directory, and load the raw data."
   ]
  },
  {
   "cell_type": "code",
   "execution_count": 4,
   "id": "092b355a",
   "metadata": {},
   "outputs": [],
   "source": [
    "dir_cur = os.getcwd()\n",
    "pdf_file = \"1408.5882_page-1.pdf\"\n",
    "input_file = os.path.join(f\"{dir_cur}/data/raw_input/\", pdf_file)"
   ]
  },
  {
   "cell_type": "markdown",
   "metadata": {},
   "source": [
    "##### Load the pdf using Nougat"
   ]
  },
  {
   "cell_type": "code",
   "execution_count": 5,
   "metadata": {},
   "outputs": [],
   "source": [
    "data = [\n",
    "    {\"pdf\": input_file},\n",
    "]\n",
    "\n",
    "extract_config = ExtractPDFConfig(\n",
    "    model_config=NougatModelConfig(\n",
    "        model_name = \"0.1.0-small\",\n",
    "        batch_size = 1 # When batch_size>1, nougat will run on CUDA, otherwise it will run on CPU\n",
    "    )\n",
    ")\n"
   ]
  },
  {
   "cell_type": "markdown",
   "metadata": {},
   "source": [
    "Now we need to write a little bit prompts to generate question and answer for a given paragraph, each promopt data includes a instruction and a list of examples with \"context\", \"question\" and \"answer\"."
   ]
  },
  {
   "cell_type": "code",
   "execution_count": 6,
   "metadata": {},
   "outputs": [],
   "source": [
    "guided_prompt = GuidedPrompt(\n",
    "    examples=[Context(\n",
    "        context=\"In 1948, Claude E. Shannon published A Mathematical Theory of\\nCommunication (Shannon, 1948) establishing the theory of\\ninformation. In his article, Shannon introduced the concept of\\ninformation entropy for the first time. We will begin our journey here.\"\"\",\n",
    "        question=\"Who published A Mathematical Theory of Communication in 1948?\"\"\",\n",
    "        answer=\"Claude E. Shannon.\"\"\"\n",
    "    )]\n",
    ")\n"
   ]
  },
  {
   "cell_type": "markdown",
   "metadata": {},
   "source": [
    "### Run the model\n",
    "\n",
    "In this example, we will use the [OpenAIModelServer](https://github.com/CambioML/uniflow/blob/main/uniflow/model/server.py#L108) as the LLM to generate questions and answers. Let's import the config and client of this model."
   ]
  },
  {
   "cell_type": "code",
   "execution_count": 7,
   "metadata": {},
   "outputs": [],
   "source": [
    "transform_config = TransformOpenAIConfig(\n",
    "    guided_prompt_template=guided_prompt,\n",
    "    model_config=OpenAIModelConfig(\n",
    "        response_format={\"type\": \"json_object\"}\n",
    "    ),\n",
    ")"
   ]
  },
  {
   "cell_type": "markdown",
   "metadata": {},
   "source": [
    "Now we call the `run` method on the `client` object to execute the question-answer generation operation on the data shown above.\n",
    "\n",
    "Note sometimes the LLM doesn't return a JSON output, then uniflow will handle the failure and auto retry generating a new output."
   ]
  },
  {
   "cell_type": "code",
   "execution_count": 8,
   "metadata": {},
   "outputs": [
    {
     "name": "stderr",
     "output_type": "stream",
     "text": [
      "/opt/conda/envs/uniflow/lib/python3.10/site-packages/torch/functional.py:504: UserWarning: torch.meshgrid: in an upcoming release, it will be required to pass the indexing argument. (Triggered internally at ../aten/src/ATen/native/TensorShape.cpp:3526.)\n",
      "  return _VF.meshgrid(tensors, **kwargs)  # type: ignore[attr-defined]\n"
     ]
    }
   ],
   "source": [
    "p = MultiFlowsPipeline(PipelineConfig(\n",
    "    extract_config=extract_config,\n",
    "    transform_config=transform_config,\n",
    "))"
   ]
  },
  {
   "cell_type": "code",
   "execution_count": 9,
   "metadata": {},
   "outputs": [
    {
     "name": "stderr",
     "output_type": "stream",
     "text": [
      "100%|██████████| 1/1 [00:03<00:00,  3.87s/it]\n",
      "100%|██████████| 14/14 [00:31<00:00,  2.28s/it]\n"
     ]
    }
   ],
   "source": [
    "output = p.run(data)"
   ]
  },
  {
   "cell_type": "markdown",
   "metadata": {},
   "source": [
    "### Process the output\n",
    "\n",
    "Let's take a look of the generation output. We need to do a little postprocessing on the raw output."
   ]
  },
  {
   "cell_type": "code",
   "execution_count": 10,
   "metadata": {},
   "outputs": [
    {
     "data": {
      "text/plain": [
       "[[{'output': [{'response': [{'context': 'Convolutional Neural Networks for Sentence Classification',\n",
       "       'question': 'What is the focus of Convolutional Neural Networks?',\n",
       "       'answer': 'The focus of Convolutional Neural Networks is sentence classification.'}],\n",
       "     'error': 'No errors.'}],\n",
       "   'root': <uniflow.node.node.Node at 0x7fa8c42281c0>},\n",
       "  {'output': [{'response': [{'context': 'In 1948, Claude E. Shannon published A Mathematical Theory of Communication (Shannon, 1948) establishing the theory of information. In his article, Shannon introduced the concept of information entropy for the first time. We will begin our journey here.',\n",
       "       'question': 'What concept did Claude E. Shannon introduce for the first time in his article A Mathematical Theory of Communication?',\n",
       "       'answer': 'Claude E. Shannon introduced the concept of information entropy for the first time.'}],\n",
       "     'error': 'No errors.'}],\n",
       "   'root': <uniflow.node.node.Node at 0x7fa8c40936a0>},\n",
       "  {'output': [{'response': [{'context': 'New York University',\n",
       "       'question': 'Where is New York University located?',\n",
       "       'answer': 'New York City, New York, United States.'}],\n",
       "     'error': 'No errors.'}],\n",
       "   'root': <uniflow.node.node.Node at 0x7fa8c4093070>},\n",
       "  {'output': [{'response': [{'context': 'yhk255@nyu.edu',\n",
       "       'question': 'What is the email address?',\n",
       "       'answer': 'yhk255@nyu.edu'}],\n",
       "     'error': 'No errors.'}],\n",
       "   'root': <uniflow.node.node.Node at 0x7fa8c40930d0>},\n",
       "  {'output': [{'response': [{'context': 'In 1948, Claude E. Shannon published A Mathematical Theory of\\nCommunication (Shannon, 1948) establishing the theory of\\ninformation. In his article, Shannon introduced the concept of\\ninformation entropy for the first time. We will begin our journey here.',\n",
       "       'question': 'What concept did Claude E. Shannon introduce for the first time in his article A Mathematical Theory of Communication?',\n",
       "       'answer': 'Claude E. Shannon introduced the concept of information entropy for the first time.'}],\n",
       "     'error': 'No errors.'}],\n",
       "   'root': <uniflow.node.node.Node at 0x7fa8c4092ce0>},\n",
       "  {'output': [{'response': [{'context': 'We report on a series of experiments with convolutional neural networks (CNN) trained on top of pre-trained word vectors for sentence-level classification tasks. We show that a simple CNN with little hyperparameter tuning and static vectors achieves excellent results on multiple benchmarks. Learning task-specific vectors through fine-tuning offers further gains in performance. We additionally propose a simple modification to the architecture to allow for the use of both task-specific and static vectors. The CNN models discussed herein improve upon the state of the art on 4 out of 7 tasks, which include sentiment analysis and question classification.',\n",
       "       'question': 'What type of models were used in the experiments reported in the context?',\n",
       "       'answer': 'Convolutional neural networks (CNN) were used in the experiments.'}],\n",
       "     'error': 'No errors.'}],\n",
       "   'root': <uniflow.node.node.Node at 0x7fa8c4092b00>},\n",
       "  {'output': [{'response': [{'context': 'In 1948, Claude E. Shannon published A Mathematical Theory of\\nCommunication (Shannon, 1948) establishing the theory of\\ninformation. In his article, Shannon introduced the concept of\\ninformation entropy for the first time. We will begin our journey here.',\n",
       "       'question': 'What concept did Claude E. Shannon introduce for the first time in his article?',\n",
       "       'answer': 'Claude E. Shannon introduced the concept of information entropy for the first time.'}],\n",
       "     'error': 'No errors.'}],\n",
       "   'root': <uniflow.node.node.Node at 0x7fa8c42296c0>},\n",
       "  {'output': [{'response': [{'context': 'Deep learning models have achieved remarkable results in computer vision [11] and speech recognition [1] in recent years. Within natural language processing, much of the work with deep learning methods has involved learning word vector representations through neural language models [1, 1, 2] and performing composition over the learned word vectors for classification [1]. Word vectors, wherein words are projected from a sparse, 1-of-\\\\(V\\\\) encoding (here \\\\(V\\\\) is the vocabulary size) onto a lower dimensional vector space via a hidden layer, are essentially feature extractors that encode semantic features of words in their dimensions. In such dense representations, semantically close words are likewise close--in euclidean or cosine distance--in the lower dimensional vector space.',\n",
       "       'question': 'What are word vectors in the context of natural language processing and deep learning?',\n",
       "       'answer': 'Word vectors are feature extractors that encode semantic features of words in their dimensions by projecting words from a sparse, 1-of-\\\\(V\\\\) encoding onto a lower dimensional vector space via a hidden layer.'}],\n",
       "     'error': 'No errors.'}],\n",
       "   'root': <uniflow.node.node.Node at 0x7fa8c06fc280>},\n",
       "  {'output': [{'response': [{'context': 'Convolutional neural networks (CNN) utilize layers with convolving filters that are applied to local features [1]. Originally invented for computer vision, CNN models have subsequently been shown to be effective for NLP and have achieved excellent results in semantic parsing [13], search query retrieval [2], sentence modeling [1], and other traditional NLP tasks [1].',\n",
       "       'question': 'What are some of the traditional NLP tasks for which CNN models have achieved excellent results?',\n",
       "       'answer': 'Semantic parsing, search query retrieval, and sentence modeling.'}],\n",
       "     'error': 'No errors.'}],\n",
       "   'root': <uniflow.node.node.Node at 0x7fa8c4125f60>},\n",
       "  {'output': [{'response': [{'context': \"In the present work, we train a simple CNN with one layer of convolution on top of word vectors obtained from an unsupervised neural language model. These vectors were trained by Mikolov et al. (2013) on 100 billion words of Google News, and are publicly available.1 We initially keep the word vectors static and learn only the other parameters of the model. Despite little tuning of hyperparameters, this simple model achieves excellent results on multiple benchmarks, suggesting that the pre-trained vectors are 'universal' feature extractors that can be utilized for various classification tasks. Learning task-specific vectors through fine-tuning results in further improvements. We finally describe a simple modification to the architecture to allow for the use of both pre-trained and task-specific vectors by having multiple channels.\",\n",
       "       'question': 'Who trained the word vectors used in the simple CNN model described in the present work?',\n",
       "       'answer': 'Mikolov et al. (2013) trained the word vectors.'}],\n",
       "     'error': 'No errors.'}],\n",
       "   'root': <uniflow.node.node.Node at 0x7fa8c4093e80>},\n",
       "  {'output': [{'response': [{'context': 'Footnote 1: [https://code.google.com/p/word2vec/](https://code.google.com/p/word2vec/)',\n",
       "       'question': 'Where can more information about word2vec be found?',\n",
       "       'answer': 'https://code.google.com/p/word2vec/'}],\n",
       "     'error': 'No errors.'}],\n",
       "   'root': <uniflow.node.node.Node at 0x7fa8c4093f40>},\n",
       "  {'output': [{'response': [{'context': 'Our work is philosophically similar to Razavian et al. (2014) which showed that for image classification, feature extractors obtained from a pre-trained deep learning model perform well on a variety of tasks--including tasks that are very different from the original task for which the feature extractors were trained.',\n",
       "       'question': 'Who showed that feature extractors obtained from a pre-trained deep learning model perform well on a variety of tasks, including those that are very different from the original task for which the feature extractors were trained?',\n",
       "       'answer': 'Razavian et al. (2014).'}],\n",
       "     'error': 'No errors.'}],\n",
       "   'root': <uniflow.node.node.Node at 0x7fa8c070be80>},\n",
       "  {'output': [{'response': [{'context': 'In 1948, Claude E. Shannon published A Mathematical Theory of\\nCommunication (Shannon, 1948) establishing the theory of\\ninformation. In his article, Shannon introduced the concept of\\ninformation entropy for the first time. We will begin our journey here.',\n",
       "       'question': 'What concept did Claude E. Shannon introduce for the first time in his article?',\n",
       "       'answer': 'Claude E. Shannon introduced the concept of information entropy for the first time.'}],\n",
       "     'error': 'No errors.'}],\n",
       "   'root': <uniflow.node.node.Node at 0x7fa8c06fdff0>},\n",
       "  {'output': [{'response': [{'context': 'The model architecture, shown in figure 1, is a slight variant of the CNN architecture of Collobert et al. (2011). Let \\\\(\\\\mathbf{x}_{i}\\\\in\\\\mathbb{R}^{k}\\\\) be the \\\\(k\\\\)-dimensional word vector corresponding to the \\\\(i\\\\)-th word in the sentence. A sentence of length \\\\(n\\\\) (padded where',\n",
       "       'question': 'What is the model architecture a variant of?',\n",
       "       'answer': 'The CNN architecture of Collobert et al. (2011).'}],\n",
       "     'error': 'No errors.'}],\n",
       "   'root': <uniflow.node.node.Node at 0x7fa8c41241c0>}]]"
      ]
     },
     "execution_count": 10,
     "metadata": {},
     "output_type": "execute_result"
    }
   ],
   "source": [
    "output"
   ]
  },
  {
   "cell_type": "code",
   "execution_count": 11,
   "metadata": {},
   "outputs": [],
   "source": [
    "# Extracting context, question, and answer into a DataFrame\n",
    "contexts = []\n",
    "questions = []\n",
    "answers = []\n",
    "\n",
    "for item in output[0]:\n",
    "    for i in item.get('output', []):\n",
    "        for response in i.get('response', []):\n",
    "            if any(key not in response for key in ['context', 'question', 'answer']):\n",
    "                continue\n",
    "            contexts.append(response['context'])\n",
    "            questions.append(response['question'])\n",
    "            answers.append(response['answer'])\n",
    "\n",
    "df = pd.DataFrame({\n",
    "    'Context': contexts,\n",
    "    'Question': questions,\n",
    "    'Answer': answers\n",
    "})"
   ]
  },
  {
   "cell_type": "code",
   "execution_count": 12,
   "metadata": {},
   "outputs": [
    {
     "data": {
      "text/html": [
       "<div>\n",
       "<style scoped>\n",
       "    .dataframe tbody tr th:only-of-type {\n",
       "        vertical-align: middle;\n",
       "    }\n",
       "\n",
       "    .dataframe tbody tr th {\n",
       "        vertical-align: top;\n",
       "    }\n",
       "\n",
       "    .dataframe thead th {\n",
       "        text-align: right;\n",
       "    }\n",
       "</style>\n",
       "<table border=\"1\" class=\"dataframe\">\n",
       "  <thead>\n",
       "    <tr style=\"text-align: right;\">\n",
       "      <th></th>\n",
       "      <th>Context</th>\n",
       "      <th>Question</th>\n",
       "      <th>Answer</th>\n",
       "    </tr>\n",
       "  </thead>\n",
       "  <tbody>\n",
       "    <tr>\n",
       "      <th>0</th>\n",
       "      <td>Convolutional Neural Networks for Sentence Classification</td>\n",
       "      <td>What is the focus of Convolutional Neural Networks?</td>\n",
       "      <td>The focus of Convolutional Neural Networks is sentence classification.</td>\n",
       "    </tr>\n",
       "    <tr>\n",
       "      <th>1</th>\n",
       "      <td>In 1948, Claude E. Shannon published A Mathematical Theory of Communication (Shannon, 1948) establishing the theory of information. In his article, Shannon introduced the concept of information entropy for the first time. We will begin our journey here.</td>\n",
       "      <td>What concept did Claude E. Shannon introduce for the first time in his article A Mathematical Theory of Communication?</td>\n",
       "      <td>Claude E. Shannon introduced the concept of information entropy for the first time.</td>\n",
       "    </tr>\n",
       "    <tr>\n",
       "      <th>2</th>\n",
       "      <td>New York University</td>\n",
       "      <td>Where is New York University located?</td>\n",
       "      <td>New York City, New York, United States.</td>\n",
       "    </tr>\n",
       "    <tr>\n",
       "      <th>3</th>\n",
       "      <td>yhk255@nyu.edu</td>\n",
       "      <td>What is the email address?</td>\n",
       "      <td>yhk255@nyu.edu</td>\n",
       "    </tr>\n",
       "    <tr>\n",
       "      <th>4</th>\n",
       "      <td>In 1948, Claude E. Shannon published A Mathematical Theory of\\nCommunication (Shannon, 1948) establishing the theory of\\ninformation. In his article, Shannon introduced the concept of\\ninformation entropy for the first time. We will begin our journey here.</td>\n",
       "      <td>What concept did Claude E. Shannon introduce for the first time in his article A Mathematical Theory of Communication?</td>\n",
       "      <td>Claude E. Shannon introduced the concept of information entropy for the first time.</td>\n",
       "    </tr>\n",
       "    <tr>\n",
       "      <th>5</th>\n",
       "      <td>We report on a series of experiments with convolutional neural networks (CNN) trained on top of pre-trained word vectors for sentence-level classification tasks. We show that a simple CNN with little hyperparameter tuning and static vectors achieves excellent results on multiple benchmarks. Learning task-specific vectors through fine-tuning offers further gains in performance. We additionally propose a simple modification to the architecture to allow for the use of both task-specific and static vectors. The CNN models discussed herein improve upon the state of the art on 4 out of 7 tasks, which include sentiment analysis and question classification.</td>\n",
       "      <td>What type of models were used in the experiments reported in the context?</td>\n",
       "      <td>Convolutional neural networks (CNN) were used in the experiments.</td>\n",
       "    </tr>\n",
       "    <tr>\n",
       "      <th>6</th>\n",
       "      <td>In 1948, Claude E. Shannon published A Mathematical Theory of\\nCommunication (Shannon, 1948) establishing the theory of\\ninformation. In his article, Shannon introduced the concept of\\ninformation entropy for the first time. We will begin our journey here.</td>\n",
       "      <td>What concept did Claude E. Shannon introduce for the first time in his article?</td>\n",
       "      <td>Claude E. Shannon introduced the concept of information entropy for the first time.</td>\n",
       "    </tr>\n",
       "    <tr>\n",
       "      <th>7</th>\n",
       "      <td>Deep learning models have achieved remarkable results in computer vision [11] and speech recognition [1] in recent years. Within natural language processing, much of the work with deep learning methods has involved learning word vector representations through neural language models [1, 1, 2] and performing composition over the learned word vectors for classification [1]. Word vectors, wherein words are projected from a sparse, 1-of-\\(V\\) encoding (here \\(V\\) is the vocabulary size) onto a lower dimensional vector space via a hidden layer, are essentially feature extractors that encode semantic features of words in their dimensions. In such dense representations, semantically close words are likewise close--in euclidean or cosine distance--in the lower dimensional vector space.</td>\n",
       "      <td>What are word vectors in the context of natural language processing and deep learning?</td>\n",
       "      <td>Word vectors are feature extractors that encode semantic features of words in their dimensions by projecting words from a sparse, 1-of-\\(V\\) encoding onto a lower dimensional vector space via a hidden layer.</td>\n",
       "    </tr>\n",
       "    <tr>\n",
       "      <th>8</th>\n",
       "      <td>Convolutional neural networks (CNN) utilize layers with convolving filters that are applied to local features [1]. Originally invented for computer vision, CNN models have subsequently been shown to be effective for NLP and have achieved excellent results in semantic parsing [13], search query retrieval [2], sentence modeling [1], and other traditional NLP tasks [1].</td>\n",
       "      <td>What are some of the traditional NLP tasks for which CNN models have achieved excellent results?</td>\n",
       "      <td>Semantic parsing, search query retrieval, and sentence modeling.</td>\n",
       "    </tr>\n",
       "    <tr>\n",
       "      <th>9</th>\n",
       "      <td>In the present work, we train a simple CNN with one layer of convolution on top of word vectors obtained from an unsupervised neural language model. These vectors were trained by Mikolov et al. (2013) on 100 billion words of Google News, and are publicly available.1 We initially keep the word vectors static and learn only the other parameters of the model. Despite little tuning of hyperparameters, this simple model achieves excellent results on multiple benchmarks, suggesting that the pre-trained vectors are 'universal' feature extractors that can be utilized for various classification tasks. Learning task-specific vectors through fine-tuning results in further improvements. We finally describe a simple modification to the architecture to allow for the use of both pre-trained and task-specific vectors by having multiple channels.</td>\n",
       "      <td>Who trained the word vectors used in the simple CNN model described in the present work?</td>\n",
       "      <td>Mikolov et al. (2013) trained the word vectors.</td>\n",
       "    </tr>\n",
       "    <tr>\n",
       "      <th>10</th>\n",
       "      <td>Footnote 1: [https://code.google.com/p/word2vec/](https://code.google.com/p/word2vec/)</td>\n",
       "      <td>Where can more information about word2vec be found?</td>\n",
       "      <td>https://code.google.com/p/word2vec/</td>\n",
       "    </tr>\n",
       "    <tr>\n",
       "      <th>11</th>\n",
       "      <td>Our work is philosophically similar to Razavian et al. (2014) which showed that for image classification, feature extractors obtained from a pre-trained deep learning model perform well on a variety of tasks--including tasks that are very different from the original task for which the feature extractors were trained.</td>\n",
       "      <td>Who showed that feature extractors obtained from a pre-trained deep learning model perform well on a variety of tasks, including those that are very different from the original task for which the feature extractors were trained?</td>\n",
       "      <td>Razavian et al. (2014).</td>\n",
       "    </tr>\n",
       "    <tr>\n",
       "      <th>12</th>\n",
       "      <td>In 1948, Claude E. Shannon published A Mathematical Theory of\\nCommunication (Shannon, 1948) establishing the theory of\\ninformation. In his article, Shannon introduced the concept of\\ninformation entropy for the first time. We will begin our journey here.</td>\n",
       "      <td>What concept did Claude E. Shannon introduce for the first time in his article?</td>\n",
       "      <td>Claude E. Shannon introduced the concept of information entropy for the first time.</td>\n",
       "    </tr>\n",
       "    <tr>\n",
       "      <th>13</th>\n",
       "      <td>The model architecture, shown in figure 1, is a slight variant of the CNN architecture of Collobert et al. (2011). Let \\(\\mathbf{x}_{i}\\in\\mathbb{R}^{k}\\) be the \\(k\\)-dimensional word vector corresponding to the \\(i\\)-th word in the sentence. A sentence of length \\(n\\) (padded where</td>\n",
       "      <td>What is the model architecture a variant of?</td>\n",
       "      <td>The CNN architecture of Collobert et al. (2011).</td>\n",
       "    </tr>\n",
       "  </tbody>\n",
       "</table>\n",
       "</div>"
      ],
      "text/plain": [
       "                                                                                                                                                                                                                                                                                                                                                                                                                                                                                                                                                                                                                                                                                                                                                                                                                                                                      Context  \\\n",
       "0                                                                                                                                                                                                                                                                                                                                                                                                                                                                                                                                                                                                                                                                                                                                                                                                                   Convolutional Neural Networks for Sentence Classification   \n",
       "1                                                                                                                                                                                                                                                                                                                                                                                                                                                                                                                                                                                                               In 1948, Claude E. Shannon published A Mathematical Theory of Communication (Shannon, 1948) establishing the theory of information. In his article, Shannon introduced the concept of information entropy for the first time. We will begin our journey here.   \n",
       "2                                                                                                                                                                                                                                                                                                                                                                                                                                                                                                                                                                                                                                                                                                                                                                                                                                                         New York University   \n",
       "3                                                                                                                                                                                                                                                                                                                                                                                                                                                                                                                                                                                                                                                                                                                                                                                                                                                              yhk255@nyu.edu   \n",
       "4                                                                                                                                                                                                                                                                                                                                                                                                                                                                                                                                                                                                            In 1948, Claude E. Shannon published A Mathematical Theory of\\nCommunication (Shannon, 1948) establishing the theory of\\ninformation. In his article, Shannon introduced the concept of\\ninformation entropy for the first time. We will begin our journey here.   \n",
       "5                                                                                                                                                                                           We report on a series of experiments with convolutional neural networks (CNN) trained on top of pre-trained word vectors for sentence-level classification tasks. We show that a simple CNN with little hyperparameter tuning and static vectors achieves excellent results on multiple benchmarks. Learning task-specific vectors through fine-tuning offers further gains in performance. We additionally propose a simple modification to the architecture to allow for the use of both task-specific and static vectors. The CNN models discussed herein improve upon the state of the art on 4 out of 7 tasks, which include sentiment analysis and question classification.   \n",
       "6                                                                                                                                                                                                                                                                                                                                                                                                                                                                                                                                                                                                            In 1948, Claude E. Shannon published A Mathematical Theory of\\nCommunication (Shannon, 1948) establishing the theory of\\ninformation. In his article, Shannon introduced the concept of\\ninformation entropy for the first time. We will begin our journey here.   \n",
       "7                                                         Deep learning models have achieved remarkable results in computer vision [11] and speech recognition [1] in recent years. Within natural language processing, much of the work with deep learning methods has involved learning word vector representations through neural language models [1, 1, 2] and performing composition over the learned word vectors for classification [1]. Word vectors, wherein words are projected from a sparse, 1-of-\\(V\\) encoding (here \\(V\\) is the vocabulary size) onto a lower dimensional vector space via a hidden layer, are essentially feature extractors that encode semantic features of words in their dimensions. In such dense representations, semantically close words are likewise close--in euclidean or cosine distance--in the lower dimensional vector space.   \n",
       "8                                                                                                                                                                                                                                                                                                                                                                                                                                                                                           Convolutional neural networks (CNN) utilize layers with convolving filters that are applied to local features [1]. Originally invented for computer vision, CNN models have subsequently been shown to be effective for NLP and have achieved excellent results in semantic parsing [13], search query retrieval [2], sentence modeling [1], and other traditional NLP tasks [1].   \n",
       "9   In the present work, we train a simple CNN with one layer of convolution on top of word vectors obtained from an unsupervised neural language model. These vectors were trained by Mikolov et al. (2013) on 100 billion words of Google News, and are publicly available.1 We initially keep the word vectors static and learn only the other parameters of the model. Despite little tuning of hyperparameters, this simple model achieves excellent results on multiple benchmarks, suggesting that the pre-trained vectors are 'universal' feature extractors that can be utilized for various classification tasks. Learning task-specific vectors through fine-tuning results in further improvements. We finally describe a simple modification to the architecture to allow for the use of both pre-trained and task-specific vectors by having multiple channels.   \n",
       "10                                                                                                                                                                                                                                                                                                                                                                                                                                                                                                                                                                                                                                                                                                                                                                                     Footnote 1: [https://code.google.com/p/word2vec/](https://code.google.com/p/word2vec/)   \n",
       "11                                                                                                                                                                                                                                                                                                                                                                                                                                                                                                                                             Our work is philosophically similar to Razavian et al. (2014) which showed that for image classification, feature extractors obtained from a pre-trained deep learning model perform well on a variety of tasks--including tasks that are very different from the original task for which the feature extractors were trained.   \n",
       "12                                                                                                                                                                                                                                                                                                                                                                                                                                                                                                                                                                                                           In 1948, Claude E. Shannon published A Mathematical Theory of\\nCommunication (Shannon, 1948) establishing the theory of\\ninformation. In his article, Shannon introduced the concept of\\ninformation entropy for the first time. We will begin our journey here.   \n",
       "13                                                                                                                                                                                                                                                                                                                                                                                                                                                                                                                                                                               The model architecture, shown in figure 1, is a slight variant of the CNN architecture of Collobert et al. (2011). Let \\(\\mathbf{x}_{i}\\in\\mathbb{R}^{k}\\) be the \\(k\\)-dimensional word vector corresponding to the \\(i\\)-th word in the sentence. A sentence of length \\(n\\) (padded where   \n",
       "\n",
       "                                                                                                                                                                                                                                Question                                                                                                                                                                                                           Answer  \n",
       "0                                                                                                                                                                                    What is the focus of Convolutional Neural Networks?                                                                                                                                           The focus of Convolutional Neural Networks is sentence classification.  \n",
       "1                                                                                                                 What concept did Claude E. Shannon introduce for the first time in his article A Mathematical Theory of Communication?                                                                                                                              Claude E. Shannon introduced the concept of information entropy for the first time.  \n",
       "2                                                                                                                                                                                                  Where is New York University located?                                                                                                                                                                          New York City, New York, United States.  \n",
       "3                                                                                                                                                                                                             What is the email address?                                                                                                                                                                                                   yhk255@nyu.edu  \n",
       "4                                                                                                                 What concept did Claude E. Shannon introduce for the first time in his article A Mathematical Theory of Communication?                                                                                                                              Claude E. Shannon introduced the concept of information entropy for the first time.  \n",
       "5                                                                                                                                                              What type of models were used in the experiments reported in the context?                                                                                                                                                Convolutional neural networks (CNN) were used in the experiments.  \n",
       "6                                                                                                                                                        What concept did Claude E. Shannon introduce for the first time in his article?                                                                                                                              Claude E. Shannon introduced the concept of information entropy for the first time.  \n",
       "7                                                                                                                                                 What are word vectors in the context of natural language processing and deep learning?  Word vectors are feature extractors that encode semantic features of words in their dimensions by projecting words from a sparse, 1-of-\\(V\\) encoding onto a lower dimensional vector space via a hidden layer.  \n",
       "8                                                                                                                                       What are some of the traditional NLP tasks for which CNN models have achieved excellent results?                                                                                                                                                 Semantic parsing, search query retrieval, and sentence modeling.  \n",
       "9                                                                                                                                               Who trained the word vectors used in the simple CNN model described in the present work?                                                                                                                                                                  Mikolov et al. (2013) trained the word vectors.  \n",
       "10                                                                                                                                                                                   Where can more information about word2vec be found?                                                                                                                                                                              https://code.google.com/p/word2vec/  \n",
       "11  Who showed that feature extractors obtained from a pre-trained deep learning model perform well on a variety of tasks, including those that are very different from the original task for which the feature extractors were trained?                                                                                                                                                                                          Razavian et al. (2014).  \n",
       "12                                                                                                                                                       What concept did Claude E. Shannon introduce for the first time in his article?                                                                                                                              Claude E. Shannon introduced the concept of information entropy for the first time.  \n",
       "13                                                                                                                                                                                          What is the model architecture a variant of?                                                                                                                                                                 The CNN architecture of Collobert et al. (2011).  "
      ]
     },
     "execution_count": 12,
     "metadata": {},
     "output_type": "execute_result"
    }
   ],
   "source": [
    "# Set display options\n",
    "pd.set_option('display.max_colwidth', None)  # or use a specific width like 50\n",
    "pd.set_option('display.width', 1000)\n",
    "\n",
    "df"
   ]
  },
  {
   "cell_type": "markdown",
   "metadata": {},
   "source": [
    "Finally, we can save the generated question answers into a `.csv` file."
   ]
  },
  {
   "cell_type": "code",
   "execution_count": 13,
   "metadata": {},
   "outputs": [],
   "source": [
    "import os\n",
    "\n",
    "# Directory path you want to ensure exists\n",
    "directory = 'data/output'\n",
    "\n",
    "# Check if the directory exists\n",
    "if not os.path.exists(directory):\n",
    "    # Create the directory, including any necessary intermediate directories\n",
    "    os.makedirs(directory)"
   ]
  },
  {
   "cell_type": "code",
   "execution_count": 14,
   "id": "72a570e6",
   "metadata": {},
   "outputs": [],
   "source": [
    "output_df = df[['Question', 'Answer']]\n",
    "output_df.to_csv(\"data/output/CNN_pdf_QApairs.csv\", index=False)"
   ]
  }
 ],
 "metadata": {
  "kernelspec": {
   "display_name": "self-instruct-ft",
   "language": "python",
   "name": "python3"
  },
  "language_info": {
   "codemirror_mode": {
    "name": "ipython",
    "version": 3
   },
   "file_extension": ".py",
   "mimetype": "text/x-python",
   "name": "python",
   "nbconvert_exporter": "python",
   "pygments_lexer": "ipython3",
   "version": "3.10.13"
  }
 },
 "nbformat": 4,
 "nbformat_minor": 5
}
